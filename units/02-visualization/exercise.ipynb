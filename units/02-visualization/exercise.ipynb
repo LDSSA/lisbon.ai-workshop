{
 "cells": [
  {
   "cell_type": "markdown",
   "metadata": {},
   "source": [
    "# Learning Unit 2 - Visualization - Exercise "
   ]
  },
  {
   "cell_type": "markdown",
   "metadata": {},
   "source": [
    "In this exercise we'll put to use some of the tools from the example, and the rest of the learning unit. \n",
    "\n",
    "We will go through a few small toy datasets, and then through a slightly more complex one, the `loan data` dataset, based very losely on [this Kaggle Challenge](https://www.kaggle.com/wendykan/lending-club-loan-data). "
   ]
  },
  {
   "cell_type": "code",
   "execution_count": null,
   "metadata": {},
   "outputs": [],
   "source": [
    "cd ..  "
   ]
  },
  {
   "cell_type": "code",
   "execution_count": null,
   "metadata": {},
   "outputs": [],
   "source": [
    "# importing libraries \n",
    "from IPython.display import Image\n",
    "from sklearn import tree \n",
    "\n",
    "# image related libraries \n",
    "import pydotplus\n",
    "import seaborn as sns \n",
    "from matplotlib import pyplot as plt \n",
    "from bokeh.io import output_notebook\n",
    "\n",
    "# the following are for the charts to display inline \n",
    "output_notebook()  \n",
    "% matplotlib inline \n",
    "\n",
    "from utils import load_data, visualizations   # <-- All the stuff we need is here, life rocks "
   ]
  },
  {
   "cell_type": "markdown",
   "metadata": {},
   "source": [
    "# Part 1 - toy datasets "
   ]
  },
  {
   "cell_type": "code",
   "execution_count": null,
   "metadata": {},
   "outputs": [],
   "source": [
    "circle = load_data.get_circle\n",
    "correlated = load_data.get_correlated_data\n",
    "temperature = load_data.get_temperature_data"
   ]
  },
  {
   "cell_type": "markdown",
   "metadata": {},
   "source": [
    "Exercise: Use the tools from the example to visualize these datasets, and get an understanding of their content. We'll be coming back to these datasets over the next Learning Units. "
   ]
  },
  {
   "cell_type": "markdown",
   "metadata": {},
   "source": [
    "# Part 2 - Loan dataset"
   ]
  },
  {
   "cell_type": "markdown",
   "metadata": {},
   "source": [
    "The `loan dataset` will be the main theme of this Tutorial, and by the end of it we should have developed some pretty good models to predict it. For now, use the tools available to you to get well acquainted with it. "
   ]
  },
  {
   "cell_type": "code",
   "execution_count": null,
   "metadata": {},
   "outputs": [],
   "source": [
    "loan_data = load_data.get_loan_data"
   ]
  }
 ],
 "metadata": {
  "kernelspec": {
   "display_name": "Python 3",
   "language": "python",
   "name": "python3"
  },
  "language_info": {
   "codemirror_mode": {
    "name": "ipython",
    "version": 3
   },
   "file_extension": ".py",
   "mimetype": "text/x-python",
   "name": "python",
   "nbconvert_exporter": "python",
   "pygments_lexer": "ipython3",
   "version": "3.4.3"
  }
 },
 "nbformat": 4,
 "nbformat_minor": 2
}
