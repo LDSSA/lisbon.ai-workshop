{
 "cells": [
  {
   "cell_type": "markdown",
   "metadata": {},
   "source": [
    "# Learning Unit 2 - Visualization - Example"
   ]
  },
  {
   "cell_type": "markdown",
   "metadata": {},
   "source": [
    "Welcome to the fasctinating world of visualization! In this example you'll take you throught the bits and bots you'll need to explore your data. Then you can go do fun things. I promise. "
   ]
  },
  {
   "cell_type": "code",
   "execution_count": null,
   "metadata": {},
   "outputs": [],
   "source": [
    "cd ..  "
   ]
  },
  {
   "cell_type": "code",
   "execution_count": null,
   "metadata": {},
   "outputs": [],
   "source": [
    "# importing libraries \n",
    "from IPython.display import Image\n",
    "from sklearn import tree \n",
    "\n",
    "# image related libraries \n",
    "import pydotplus\n",
    "import seaborn as sns \n",
    "import graphviz\n",
    "from matplotlib import pyplot as plt \n",
    "from bokeh.io import output_notebook\n",
    "\n",
    "# the following are for the charts to display inline \n",
    "output_notebook()  \n",
    "% matplotlib inline \n",
    "\n",
    "from utils import load_data, visualizations   # <-- All the stuff we need is here, life rocks "
   ]
  },
  {
   "cell_type": "markdown",
   "metadata": {},
   "source": [
    "# Inbuilt Pandas plotting "
   ]
  },
  {
   "cell_type": "markdown",
   "metadata": {},
   "source": [
    "Pandas brilliantly has a bunch of plots already built in. I suggest you take a dataset, take a new cell, and write ``df1.plot??`` to see what they've included in the plot function call. \n",
    "\n",
    "Here we will just see a couple of basic ones. "
   ]
  },
  {
   "cell_type": "code",
   "execution_count": null,
   "metadata": {},
   "outputs": [],
   "source": [
    "# first, let's get some data \n",
    "df1 = load_data.get_correlated_data()"
   ]
  },
  {
   "cell_type": "code",
   "execution_count": null,
   "metadata": {},
   "outputs": [],
   "source": [
    "df1.head()  # now, let's observe how boring this dataset is "
   ]
  },
  {
   "cell_type": "markdown",
   "metadata": {},
   "source": [
    "#### Line charts"
   ]
  },
  {
   "cell_type": "code",
   "execution_count": null,
   "metadata": {},
   "outputs": [],
   "source": [
    "df1['a'].plot()  # we won't be using lots of line charts today, but just so you know where to find them \n",
    "plt.show()       # this is just so that it will show in line and pretty "
   ]
  },
  {
   "cell_type": "markdown",
   "metadata": {},
   "source": [
    "#### Bar charts"
   ]
  },
  {
   "cell_type": "markdown",
   "metadata": {},
   "source": [
    "[Uuuh a Bar Chart! Fascinating!](https://media.giphy.com/media/3o6Ztip1Hq0NNGfqyk/giphy.gif)"
   ]
  },
  {
   "cell_type": "code",
   "execution_count": null,
   "metadata": {},
   "outputs": [],
   "source": [
    "df1.mean().plot(kind='bar')  # <-- plot the means, as a bar chart \n",
    "plt.show()"
   ]
  },
  {
   "cell_type": "markdown",
   "metadata": {},
   "source": [
    "#### Scatterplots "
   ]
  },
  {
   "cell_type": "markdown",
   "metadata": {},
   "source": [
    "We'll use a wrapper around bokeh to make slightly better ones, but it's useful to know this one because it's so simple"
   ]
  },
  {
   "cell_type": "code",
   "execution_count": null,
   "metadata": {},
   "outputs": [],
   "source": [
    "df1.plot(kind='scatter', x='a', y='b')  # <-- here you need to declare what are your x and y \n",
    "plt.show()"
   ]
  },
  {
   "cell_type": "markdown",
   "metadata": {},
   "source": [
    "# Seaborn "
   ]
  },
  {
   "cell_type": "markdown",
   "metadata": {},
   "source": [
    "[Seaborn](seaborn.pydata.org/examples/index.html) is one of the few libraries that is simultaneously crazy simple, and extremely powerful. It's well worth learning. \n",
    "\n",
    "In our case, we'll use it mostly for heatmaps, but it's got lots of great stuff. "
   ]
  },
  {
   "cell_type": "markdown",
   "metadata": {},
   "source": [
    "Let's get some temperature data:"
   ]
  },
  {
   "cell_type": "code",
   "execution_count": null,
   "metadata": {},
   "outputs": [],
   "source": [
    "temperatures = load_data.get_temperature_data()"
   ]
  },
  {
   "cell_type": "markdown",
   "metadata": {},
   "source": [
    "What does this data look like? "
   ]
  },
  {
   "cell_type": "code",
   "execution_count": null,
   "metadata": {},
   "outputs": [],
   "source": [
    "temperatures.head()"
   ]
  },
  {
   "cell_type": "markdown",
   "metadata": {},
   "source": [
    "Can I maybe see this in a less boring way? "
   ]
  },
  {
   "cell_type": "code",
   "execution_count": null,
   "metadata": {},
   "outputs": [],
   "source": [
    "sns.heatmap(temperatures, annot=True)\n",
    "plt.show()"
   ]
  },
  {
   "cell_type": "markdown",
   "metadata": {},
   "source": [
    "# Bokeh"
   ]
  },
  {
   "cell_type": "markdown",
   "metadata": {},
   "source": [
    "Bokeh is extremely powerful, but it's flexibility comes at the price of being hugely verbose. \n",
    "\n",
    "Pros: \n",
    "- You can do [pretty much anything](http://bokeh.pydata.org/en/latest/docs/gallery.html#gallery) with it once you know how to use it \n",
    "\n",
    "Cons: \n",
    "- The library is evolving very fast, and the documentation is pretty [rougth to navigate](https://imgs.xkcd.com/comics/manuals.png). "
   ]
  },
  {
   "cell_type": "markdown",
   "metadata": {},
   "source": [
    "In this tutorial we'll be using some wrappers that will serve most practical purposes. "
   ]
  },
  {
   "cell_type": "code",
   "execution_count": null,
   "metadata": {},
   "outputs": [],
   "source": [
    "cross = load_data.get_cross_data() # Let's get some more data "
   ]
  },
  {
   "cell_type": "code",
   "execution_count": null,
   "metadata": {},
   "outputs": [],
   "source": [
    "cross.head()"
   ]
  },
  {
   "cell_type": "markdown",
   "metadata": {},
   "source": [
    "Suggestion: Before running the next cell, try to get an intuition of the `cross` dataset by using the other visualizations you've seen. "
   ]
  },
  {
   "cell_type": "markdown",
   "metadata": {},
   "source": [
    "### Scatterplot, with colors! "
   ]
  },
  {
   "cell_type": "code",
   "execution_count": null,
   "metadata": {},
   "outputs": [],
   "source": [
    "visualizations.plot_scatter_3_features(cross, 'a', 'b', 'c', 'My first bokeh plot')"
   ]
  },
  {
   "cell_type": "markdown",
   "metadata": {},
   "source": [
    "Visualizations are brilliant for this reason, we now know exaclty what this dataset is, even if we couldn't do it be looking at statistics. \n",
    "\n",
    "Interestingly, a linear model such as a Logistic Regression would hardly be able to do better than random at predicting this (try it!) , even though to our eyes the pattern is obvious. "
   ]
  },
  {
   "cell_type": "markdown",
   "metadata": {},
   "source": [
    "# Fitting a tree "
   ]
  },
  {
   "cell_type": "markdown",
   "metadata": {},
   "source": [
    "A great way to get a quick understanding of a model, is to fit a simple decision tree to it, and then to visualize it. \n",
    "\n",
    "Let's use the sklean _tree.[DecisionTreeClassifier](http://scikit-learn.org/stable/modules/generated/sklearn.tree.DecisionTreeClassifier.html)_: "
   ]
  },
  {
   "cell_type": "code",
   "execution_count": null,
   "metadata": {},
   "outputs": [],
   "source": [
    "dt = tree.DecisionTreeClassifier(max_depth=3) # instanciate the model \n",
    "dt.fit(cross[['b', 'a']], cross['c'])         # fit the model to the features a and b, to predict c "
   ]
  },
  {
   "cell_type": "markdown",
   "metadata": {},
   "source": [
    "And now for the fun part. Visualizing with Graphviz is simple, and extremely powerful"
   ]
  },
  {
   "cell_type": "code",
   "execution_count": null,
   "metadata": {},
   "outputs": [],
   "source": [
    "dot_data = tree.export_graphviz(dt,\n",
    "                                out_file=None,\n",
    "                                impurity=True,\n",
    "                                feature_names=['b', 'a'],\n",
    "                                class_names=['red', 'green'],\n",
    "                                filled=True, rounded=True,\n",
    "                                special_characters=True)\n",
    "\n",
    "graph = graphviz.Source(dot_data) \n",
    "graph"
   ]
  },
  {
   "cell_type": "markdown",
   "metadata": {},
   "source": [
    "Very interesting. Now consider that first split. Pretty weird huh? Any idea why it split at such a stupid place? "
   ]
  },
  {
   "cell_type": "markdown",
   "metadata": {},
   "source": [
    "Essentially it needed to break simetry. The ideal split for us (to our eyes at least) would be accross the middle, but that would not have had any entropy gain. So the tree actually maximized it quite reasonably, and then went on to quicly grasp the whole dataset. "
   ]
  },
  {
   "cell_type": "markdown",
   "metadata": {},
   "source": [
    "_Note: You might have noticed we fit the tree with `dt.fit(cross['b', 'a'], cross['c'])` instead of `dt.fit(cross['a', 'b'], cross['c'])`  \n",
    "This was for a [very technical reason](https://i.imgflip.com/1ydlm5.jpg)_"
   ]
  },
  {
   "cell_type": "markdown",
   "metadata": {},
   "source": [
    "# Great, we're done! Now on to the exercise :)"
   ]
  }
 ],
 "metadata": {
  "kernelspec": {
   "display_name": "Python 3",
   "language": "python",
   "name": "python3"
  },
  "language_info": {
   "codemirror_mode": {
    "name": "ipython",
    "version": 3
   },
   "file_extension": ".py",
   "mimetype": "text/x-python",
   "name": "python",
   "nbconvert_exporter": "python",
   "pygments_lexer": "ipython3",
   "version": "3.4.3"
  }
 },
 "nbformat": 4,
 "nbformat_minor": 2
}
