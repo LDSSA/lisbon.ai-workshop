{
 "cells": [
  {
   "cell_type": "markdown",
   "metadata": {
    "collapsed": true
   },
   "source": [
    "# Learning Unit 5 - Overfitting - Exercise "
   ]
  },
  {
   "cell_type": "markdown",
   "metadata": {},
   "source": [
    "We are on a war against overfitting. \n",
    "\n",
    "Our objective is to get the best score on the Tets Set (for now we'll use Cross Val Score as a proxy), but we don't know what models work best, or what hyper parameters work best for each model."
   ]
  },
  {
   "cell_type": "markdown",
   "metadata": {},
   "source": [
    "Equipped with the knowedge of how to visualize overfitting, and how to calcualte cross val scores, try to find a good model, and some sensible hyper parameters for the ``loans`` dataset. \n",
    "\n",
    "To warm up, start by using Ipython Interact to find a good set of hyper parameters for ``circle`` and for ``linear``"
   ]
  },
  {
   "cell_type": "code",
   "execution_count": null,
   "metadata": {},
   "outputs": [],
   "source": [
    "cd .."
   ]
  },
  {
   "cell_type": "code",
   "execution_count": null,
   "metadata": {},
   "outputs": [],
   "source": [
    "from ipywidgets import interact   \n",
    "from bokeh.plotting import figure, output_notebook\n",
    "from utils import load_data, visualizations\n",
    "from sklearn.model_selection import cross_val_score\n",
    "output_notebook()"
   ]
  },
  {
   "cell_type": "code",
   "execution_count": null,
   "metadata": {},
   "outputs": [],
   "source": [
    "from sklearn.tree import DecisionTreeClassifier\n",
    "from sklearn.ensemble import RandomForestClassifier\n",
    "from sklearn.neighbors import KNeighborsClassifier\n",
    "from sklearn.linear_model import LogisticRegression\n",
    "\n",
    "circle = load_data.get_circle(n_points=500)\n",
    "linear = load_data.get_linear_separable(n_points=500)\n",
    "loans = load_data.get_loan_data()"
   ]
  }
 ],
 "metadata": {
  "kernelspec": {
   "display_name": "Python 3",
   "language": "python",
   "name": "python3"
  },
  "language_info": {
   "codemirror_mode": {
    "name": "ipython",
    "version": 3
   },
   "file_extension": ".py",
   "mimetype": "text/x-python",
   "name": "python",
   "nbconvert_exporter": "python",
   "pygments_lexer": "ipython3",
   "version": "3.4.3"
  }
 },
 "nbformat": 4,
 "nbformat_minor": 2
}
