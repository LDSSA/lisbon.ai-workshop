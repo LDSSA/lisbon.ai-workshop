{
 "cells": [
  {
   "cell_type": "code",
   "execution_count": 9,
   "metadata": {
    "collapsed": true
   },
   "outputs": [],
   "source": [
    "import pandas as pd\n",
    "import matplotlib\n",
    "import matplotlib.pyplot as plt\n",
    "import seaborn as sns\n",
    "from sklearn.datasets import make_classification\n",
    "from sklearn.linear_model import LogisticRegression\n",
    "from sklearn.metrics import roc_auc_score\n",
    "\n",
    "\n",
    "%matplotlib notebook"
   ]
  },
  {
   "cell_type": "markdown",
   "metadata": {},
   "source": [
    "# Reciever Operator Characteristic\n",
    "\n",
    "There's this pretty cool because it expresses your model's\n",
    "ranking ability.\n",
    "\n",
    "Your assignment is to understand and draw the roc_auc curve for\n",
    "the given y_true and y_pred.\n",
    "\n",
    "1. Draw the roc_auc curve for the test set of the model\n",
    "    - no using sklearn.metrics.roc_curve\n",
    "    - allowed to use slkearn.metrics.confusion_matrix\n",
    "1. Compute the roc_auc_score for the model (allowed to use sklearn.roc_auc_score)\n",
    "1. Write up a description *in your own words* about what\n",
    "    1. the roc_auc curve is\n",
    "    1. what the roc_auc_score is\n",
    "1. Select the best cutoff to use for the model we have trained"
   ]
  },
  {
   "cell_type": "code",
   "execution_count": 52,
   "metadata": {
    "collapsed": true
   },
   "outputs": [],
   "source": [
    "# ye ol' dataset\n",
    "X, y = make_classification(\n",
    "    n_samples=1000, n_features=3, n_redundant=0, n_clusters_per_class=1, flip_y=0.4)\n",
    "train_index = round(X.shape[0] * 0.8)\n",
    "X_train, y_train = X[:train_index], y[:train_index]\n",
    "X_test, y_test = X[train_index:], y[train_index:]"
   ]
  },
  {
   "cell_type": "code",
   "execution_count": 54,
   "metadata": {
    "collapsed": true
   },
   "outputs": [],
   "source": [
    "# ye ol' model, fitted and ready to go\n",
    "logit = LogisticRegression()\n",
    "logit.fit(X_train, y_train)\n",
    "y_pred = logit.predict_proba(X_test)[:,1]"
   ]
  },
  {
   "cell_type": "code",
   "execution_count": 55,
   "metadata": {
    "collapsed": true
   },
   "outputs": [],
   "source": [
    "# ye ol' work here"
   ]
  },
  {
   "cell_type": "code",
   "execution_count": null,
   "metadata": {
    "collapsed": true
   },
   "outputs": [],
   "source": []
  }
 ],
 "metadata": {
  "kernelspec": {
   "display_name": "Python 3",
   "language": "python",
   "name": "python3"
  },
  "language_info": {
   "codemirror_mode": {
    "name": "ipython",
    "version": 3
   },
   "file_extension": ".py",
   "mimetype": "text/x-python",
   "name": "python",
   "nbconvert_exporter": "python",
   "pygments_lexer": "ipython3",
   "version": "3.6.1"
  }
 },
 "nbformat": 4,
 "nbformat_minor": 2
}
