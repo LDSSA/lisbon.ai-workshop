{
 "cells": [
  {
   "cell_type": "markdown",
   "metadata": {
    "collapsed": true
   },
   "source": [
    "# Evaluating your classifier\n",
    "\n",
    "So we know how to fit some models and check out what they are doing\n",
    "by looking at how they carve up the space to gain some understanding\n",
    "from it but what kind of objective measures do we have to understand\n",
    "how well our models are performing? Let's find out!"
   ]
  },
  {
   "cell_type": "markdown",
   "metadata": {},
   "source": [
    "## So what's available\n",
    "\n",
    "Remember we are working with binary classification which is quite a specific subset of\n",
    "machine learning and has lots of interesting metrics associated with it.\n",
    "\n",
    "Let's go on a little journey here starting with intuition.\n",
    "\n",
    "So given that (in binary classification) and your job is to identify if something is\n",
    "in the \"true\" class, a first intuition might be to say \"of the ones I said were\n",
    "in the true class, how many of them did I get right?\"\n",
    "\n",
    "So let's generate a silly little dataset and take a look at it:"
   ]
  },
  {
   "cell_type": "code",
   "execution_count": 1,
   "metadata": {
    "collapsed": true
   },
   "outputs": [],
   "source": [
    "import pandas as pd\n",
    "import matplotlib\n",
    "import matplotlib.pyplot as plt\n",
    "import seaborn as sns\n",
    "\n",
    "\n",
    "%matplotlib inline"
   ]
  },
  {
   "cell_type": "markdown",
   "metadata": {},
   "source": [
    "Let's create ourselves a balanced dataset.\n",
    "Balanced means: both classes have the same number of observations."
   ]
  },
  {
   "cell_type": "code",
   "execution_count": 40,
   "metadata": {},
   "outputs": [],
   "source": [
    "df = pd.DataFrame({\n",
    "    'x': list(range(0, 100)),\n",
    "    'target': [True if x >= 50 else False for x in range(0, 100)]\n",
    "}) "
   ]
  },
  {
   "cell_type": "code",
   "execution_count": 41,
   "metadata": {},
   "outputs": [
    {
     "name": "stdout",
     "output_type": "stream",
     "text": [
      "# Trues: 50, # Falses: 50\n"
     ]
    }
   ],
   "source": [
    "print('# Trues: {}, # Falses: {}'.format(df.target.sum(), (~df.target).sum()))"
   ]
  },
  {
   "cell_type": "code",
   "execution_count": 42,
   "metadata": {},
   "outputs": [
    {
     "data": {
      "text/html": [
       "<div>\n",
       "<style>\n",
       "    .dataframe thead tr:only-child th {\n",
       "        text-align: right;\n",
       "    }\n",
       "\n",
       "    .dataframe thead th {\n",
       "        text-align: left;\n",
       "    }\n",
       "\n",
       "    .dataframe tbody tr th {\n",
       "        vertical-align: top;\n",
       "    }\n",
       "</style>\n",
       "<table border=\"1\" class=\"dataframe\">\n",
       "  <thead>\n",
       "    <tr style=\"text-align: right;\">\n",
       "      <th></th>\n",
       "      <th>target</th>\n",
       "      <th>x</th>\n",
       "    </tr>\n",
       "  </thead>\n",
       "  <tbody>\n",
       "    <tr>\n",
       "      <th>0</th>\n",
       "      <td>False</td>\n",
       "      <td>0</td>\n",
       "    </tr>\n",
       "    <tr>\n",
       "      <th>1</th>\n",
       "      <td>False</td>\n",
       "      <td>1</td>\n",
       "    </tr>\n",
       "    <tr>\n",
       "      <th>2</th>\n",
       "      <td>False</td>\n",
       "      <td>2</td>\n",
       "    </tr>\n",
       "    <tr>\n",
       "      <th>3</th>\n",
       "      <td>False</td>\n",
       "      <td>3</td>\n",
       "    </tr>\n",
       "    <tr>\n",
       "      <th>4</th>\n",
       "      <td>False</td>\n",
       "      <td>4</td>\n",
       "    </tr>\n",
       "  </tbody>\n",
       "</table>\n",
       "</div>"
      ],
      "text/plain": [
       "   target  x\n",
       "0   False  0\n",
       "1   False  1\n",
       "2   False  2\n",
       "3   False  3\n",
       "4   False  4"
      ]
     },
     "execution_count": 42,
     "metadata": {},
     "output_type": "execute_result"
    }
   ],
   "source": [
    "df.head()"
   ]
  },
  {
   "cell_type": "markdown",
   "metadata": {},
   "source": [
    "First let's get some terminology down:\n",
    "\n",
    "1) tp - true positive\n",
    "    - the number of observations you labeled as \"true\" that are actually \"true\"\n",
    "    - great job! you said they were \"true\" and they actually were!\n",
    "2) fp - false positive\n",
    "    - the number of observations you labeled as \"true\" that were actually \"false\"\n",
    "    - not so great job ☹️, you said they were \"true\" but you were wrong... false alarm! fake news!\n",
    "    \n",
    "Alright, we've got a few concepts to work with here. Notice the second part of the phrase\n",
    "is called \"p\" which stands for \"positive\". So this means that you are only looking at\n",
    "the subset of your predictions that you classified as \"true\".\n",
    "\n",
    "For a concrete example, let's say that you guessed that any observations\n",
    "in our dataset that have values above 40 and below 55 should be considered \"true\"\n",
    "while everything else is false:"
   ]
  },
  {
   "cell_type": "code",
   "execution_count": 43,
   "metadata": {},
   "outputs": [],
   "source": [
    "# Here is my super stupid model\n",
    "def my_stupid_model(x):\n",
    "    return x > 45 and x < 65\n",
    "\n",
    "preds = df.x.map(my_stupid_model)"
   ]
  },
  {
   "cell_type": "markdown",
   "metadata": {},
   "source": [
    "Alright, let's see how many observations we classified as \"true\""
   ]
  },
  {
   "cell_type": "code",
   "execution_count": 44,
   "metadata": {},
   "outputs": [
    {
     "data": {
      "text/plain": [
       "(100, 19)"
      ]
     },
     "execution_count": 44,
     "metadata": {},
     "output_type": "execute_result"
    }
   ],
   "source": [
    "# now we've got 100 observations and 14 of them the model\n",
    "# predicted \"true\" for.\n",
    "len(preds), preds.sum()"
   ]
  },
  {
   "cell_type": "markdown",
   "metadata": {},
   "source": [
    "That gives us a grand total of 14 observations that we are considering \"true\".\n",
    "\n",
    "We can check on each of the true positive and false positive rates because we\n",
    "have the \"target\" which is the actual real deal."
   ]
  },
  {
   "cell_type": "code",
   "execution_count": 45,
   "metadata": {},
   "outputs": [
    {
     "data": {
      "text/html": [
       "<div>\n",
       "<style>\n",
       "    .dataframe thead tr:only-child th {\n",
       "        text-align: right;\n",
       "    }\n",
       "\n",
       "    .dataframe thead th {\n",
       "        text-align: left;\n",
       "    }\n",
       "\n",
       "    .dataframe tbody tr th {\n",
       "        vertical-align: top;\n",
       "    }\n",
       "</style>\n",
       "<table border=\"1\" class=\"dataframe\">\n",
       "  <thead>\n",
       "    <tr style=\"text-align: right;\">\n",
       "      <th></th>\n",
       "      <th>target</th>\n",
       "      <th>x</th>\n",
       "    </tr>\n",
       "  </thead>\n",
       "  <tbody>\n",
       "    <tr>\n",
       "      <th>46</th>\n",
       "      <td>False</td>\n",
       "      <td>46</td>\n",
       "    </tr>\n",
       "    <tr>\n",
       "      <th>47</th>\n",
       "      <td>False</td>\n",
       "      <td>47</td>\n",
       "    </tr>\n",
       "    <tr>\n",
       "      <th>48</th>\n",
       "      <td>False</td>\n",
       "      <td>48</td>\n",
       "    </tr>\n",
       "    <tr>\n",
       "      <th>49</th>\n",
       "      <td>False</td>\n",
       "      <td>49</td>\n",
       "    </tr>\n",
       "    <tr>\n",
       "      <th>50</th>\n",
       "      <td>True</td>\n",
       "      <td>50</td>\n",
       "    </tr>\n",
       "    <tr>\n",
       "      <th>51</th>\n",
       "      <td>True</td>\n",
       "      <td>51</td>\n",
       "    </tr>\n",
       "    <tr>\n",
       "      <th>52</th>\n",
       "      <td>True</td>\n",
       "      <td>52</td>\n",
       "    </tr>\n",
       "    <tr>\n",
       "      <th>53</th>\n",
       "      <td>True</td>\n",
       "      <td>53</td>\n",
       "    </tr>\n",
       "    <tr>\n",
       "      <th>54</th>\n",
       "      <td>True</td>\n",
       "      <td>54</td>\n",
       "    </tr>\n",
       "    <tr>\n",
       "      <th>55</th>\n",
       "      <td>True</td>\n",
       "      <td>55</td>\n",
       "    </tr>\n",
       "    <tr>\n",
       "      <th>56</th>\n",
       "      <td>True</td>\n",
       "      <td>56</td>\n",
       "    </tr>\n",
       "    <tr>\n",
       "      <th>57</th>\n",
       "      <td>True</td>\n",
       "      <td>57</td>\n",
       "    </tr>\n",
       "    <tr>\n",
       "      <th>58</th>\n",
       "      <td>True</td>\n",
       "      <td>58</td>\n",
       "    </tr>\n",
       "    <tr>\n",
       "      <th>59</th>\n",
       "      <td>True</td>\n",
       "      <td>59</td>\n",
       "    </tr>\n",
       "    <tr>\n",
       "      <th>60</th>\n",
       "      <td>True</td>\n",
       "      <td>60</td>\n",
       "    </tr>\n",
       "    <tr>\n",
       "      <th>61</th>\n",
       "      <td>True</td>\n",
       "      <td>61</td>\n",
       "    </tr>\n",
       "    <tr>\n",
       "      <th>62</th>\n",
       "      <td>True</td>\n",
       "      <td>62</td>\n",
       "    </tr>\n",
       "    <tr>\n",
       "      <th>63</th>\n",
       "      <td>True</td>\n",
       "      <td>63</td>\n",
       "    </tr>\n",
       "    <tr>\n",
       "      <th>64</th>\n",
       "      <td>True</td>\n",
       "      <td>64</td>\n",
       "    </tr>\n",
       "  </tbody>\n",
       "</table>\n",
       "</div>"
      ],
      "text/plain": [
       "    target   x\n",
       "46   False  46\n",
       "47   False  47\n",
       "48   False  48\n",
       "49   False  49\n",
       "50    True  50\n",
       "51    True  51\n",
       "52    True  52\n",
       "53    True  53\n",
       "54    True  54\n",
       "55    True  55\n",
       "56    True  56\n",
       "57    True  57\n",
       "58    True  58\n",
       "59    True  59\n",
       "60    True  60\n",
       "61    True  61\n",
       "62    True  62\n",
       "63    True  63\n",
       "64    True  64"
      ]
     },
     "execution_count": 45,
     "metadata": {},
     "output_type": "execute_result"
    }
   ],
   "source": [
    "# grab the subset of \"target\" that we predicted \"true\" for\n",
    "all_true = df.loc[preds]\n",
    "all_true"
   ]
  },
  {
   "cell_type": "markdown",
   "metadata": {},
   "source": [
    "As you can see, not all of the observations in target are actually \"true\". This means that we have\n",
    "some false positives and some false true positives!"
   ]
  },
  {
   "cell_type": "code",
   "execution_count": 46,
   "metadata": {},
   "outputs": [
    {
     "data": {
      "text/plain": [
       "15"
      ]
     },
     "execution_count": 46,
     "metadata": {},
     "output_type": "execute_result"
    }
   ],
   "source": [
    "# alright, now let's check out how many true positives we have\n",
    "all_true.target.sum()"
   ]
  },
  {
   "cell_type": "markdown",
   "metadata": {},
   "source": [
    "Hooray! Of the ones that our model predicted as \"true\", 9 of them actually are! That's great!\n",
    "\n",
    "Now let's take a look at our false alarms."
   ]
  },
  {
   "cell_type": "code",
   "execution_count": 47,
   "metadata": {},
   "outputs": [
    {
     "data": {
      "text/plain": [
       "4"
      ]
     },
     "execution_count": 47,
     "metadata": {},
     "output_type": "execute_result"
    }
   ],
   "source": [
    "# Let's invert the target and then do a sum to get the false positives\n",
    "(~all_true.target).sum()"
   ]
  },
  {
   "cell_type": "code",
   "execution_count": 48,
   "metadata": {},
   "outputs": [
    {
     "data": {
      "text/plain": [
       "<matplotlib.axes._subplots.AxesSubplot at 0x11f190438>"
      ]
     },
     "execution_count": 48,
     "metadata": {},
     "output_type": "execute_result"
    },
    {
     "data": {
      "image/png": "[encoded data removed]",
      "text/plain": [
       "<matplotlib.figure.Figure at 0x11ecb44a8>"
      ]
     },
     "metadata": {},
     "output_type": "display_data"
    }
   ],
   "source": [
    "# In summary\n",
    "pd.Series([all_true.target.sum(), (~all_true.target).sum()], index=['true positive', 'false positive']).plot.bar(\n",
    "    title='all positives')"
   ]
  },
  {
   "cell_type": "markdown",
   "metadata": {},
   "source": [
    "Word up! Or down. Not sure. Of the observations we picked as \"true\" we got 5 wrong ☹️\n",
    "\n",
    "Alright, let's put this together now into a ratio so we can get an idea of how many\n",
    "of our \"true\" guesses were correct in a relative sense:"
   ]
  },
  {
   "cell_type": "code",
   "execution_count": 49,
   "metadata": {},
   "outputs": [
    {
     "data": {
      "text/plain": [
       "0.78947368421052633"
      ]
     },
     "execution_count": 49,
     "metadata": {},
     "output_type": "execute_result"
    }
   ],
   "source": [
    "all_true.target.sum() / all_true.shape[0]"
   ]
  },
  {
   "cell_type": "markdown",
   "metadata": {},
   "source": [
    "Hm, this doesn't seem so bad at all! This is something you might be happy to live with.\n",
    "\n",
    "And it seems like something useful to know! I wonder if it has a name?"
   ]
  },
  {
   "cell_type": "markdown",
   "metadata": {},
   "source": [
    "## It has a name! It's called precision!\n",
    "\n",
    "And it's in scikit! Behold the glory 🎉"
   ]
  },
  {
   "cell_type": "code",
   "execution_count": 50,
   "metadata": {},
   "outputs": [
    {
     "data": {
      "text/plain": [
       "0.78947368421052633"
      ]
     },
     "execution_count": 50,
     "metadata": {},
     "output_type": "execute_result"
    }
   ],
   "source": [
    "from sklearn.metrics import precision_score\n",
    "precision_score(df.target, preds)"
   ]
  },
  {
   "cell_type": "markdown",
   "metadata": {},
   "source": [
    "One more time, just to make sure it's clear:"
   ]
  },
  {
   "cell_type": "code",
   "execution_count": 51,
   "metadata": {},
   "outputs": [
    {
     "name": "stdout",
     "output_type": "stream",
     "text": [
      "manually calculated precision: 0.7894736842105263\n",
      "Precision from scikit:         0.7894736842105263\n"
     ]
    }
   ],
   "source": [
    "manually_calculated = all_true.target.sum() / all_true.shape[0]\n",
    "from_scikit = precision_score(df.target, preds)\n",
    "\n",
    "print('manually calculated precision: {}\\nPrecision from scikit:         {}'.format(\n",
    "    manually_calculated, from_scikit))"
   ]
  },
  {
   "cell_type": "markdown",
   "metadata": {},
   "source": [
    "Well then, now we're getting somewhere. We've got this super duper metric that is already\n",
    "in scikit and we've got a model that is performing crazy good at 73%.\n",
    "\n",
    "Who needs machine learning!"
   ]
  },
  {
   "cell_type": "markdown",
   "metadata": {},
   "source": [
    "## Let's think more critically now\n",
    "\n",
    "I'm sure that some of you by now have noticed what's wrong with this picture.\n",
    "\n",
    "We made 100 predictions and we are only evaluating ourselves on a tiny little\n",
    "portion of the predictions that we made! Now that's not fair!\n",
    "\n",
    "I'm sure that you can see why, but let's take it to a bit more extreme\n",
    "with an even dumber model:"
   ]
  },
  {
   "cell_type": "code",
   "execution_count": 52,
   "metadata": {},
   "outputs": [
    {
     "data": {
      "text/plain": [
       "1.0"
      ]
     },
     "execution_count": 52,
     "metadata": {},
     "output_type": "execute_result"
    }
   ],
   "source": [
    "# This model has totally given up on life\n",
    "def my_stupid_model(x):\n",
    "    return x == 99\n",
    "\n",
    "preds = df.x.map(my_stupid_model)\n",
    "precision_score(df.target, preds)"
   ]
  },
  {
   "cell_type": "markdown",
   "metadata": {},
   "source": [
    "Well if you never take a chance, of course you will never fail!\n",
    "\n",
    "It's time to grow a pair and start looking at the rest of our predictions. \n",
    "\n",
    "This gets us into the the next category which is the ones that we predicted\n",
    "\"false\" for.\n",
    "\n",
    "- tn - true negative\n",
    "    - these are the observations you predicted \"false\" for and were actually \"false\"\n",
    "    - nice job! you said they were \"false\" and you were actually right about it!\n",
    "- fn - false negative\n",
    "    - these are the observations you predicted \"false\" for and were actually \"true\"\n",
    "    - not so great job. you threw some babies out with the bath water 👶 !\n",
    "    \n",
    "Let's bring back our original stupid model model and look at some of these numbers\n",
    "\n"
   ]
  },
  {
   "cell_type": "code",
   "execution_count": 53,
   "metadata": {
    "collapsed": true
   },
   "outputs": [],
   "source": [
    "def my_stupid_model(x):\n",
    "    return x > 45 and x < 65\n",
    "\n",
    "preds = df.x.map(my_stupid_model)"
   ]
  },
  {
   "cell_type": "code",
   "execution_count": 54,
   "metadata": {},
   "outputs": [],
   "source": [
    "all_false = df.loc[~preds]"
   ]
  },
  {
   "cell_type": "markdown",
   "metadata": {},
   "source": [
    "Let's see how are are doing in the true negative department:"
   ]
  },
  {
   "cell_type": "code",
   "execution_count": 55,
   "metadata": {},
   "outputs": [
    {
     "data": {
      "text/plain": [
       "46"
      ]
     },
     "execution_count": 55,
     "metadata": {},
     "output_type": "execute_result"
    }
   ],
   "source": [
    "(~all_false.target).sum()"
   ]
  },
  {
   "cell_type": "markdown",
   "metadata": {},
   "source": [
    "Now let's see what's up in the false negative department"
   ]
  },
  {
   "cell_type": "code",
   "execution_count": 56,
   "metadata": {},
   "outputs": [
    {
     "data": {
      "text/plain": [
       "35"
      ]
     },
     "execution_count": 56,
     "metadata": {},
     "output_type": "execute_result"
    }
   ],
   "source": [
    "all_false.target.sum()"
   ]
  },
  {
   "cell_type": "markdown",
   "metadata": {},
   "source": [
    "Summarize:"
   ]
  },
  {
   "cell_type": "code",
   "execution_count": 57,
   "metadata": {},
   "outputs": [
    {
     "data": {
      "text/plain": [
       "<matplotlib.axes._subplots.AxesSubplot at 0x11f231780>"
      ]
     },
     "execution_count": 57,
     "metadata": {},
     "output_type": "execute_result"
    },
    {
     "data": {
      "image/png": "[encoded data removed]",
      "text/plain": [
       "<matplotlib.figure.Figure at 0x11f195c50>"
      ]
     },
     "metadata": {},
     "output_type": "display_data"
    }
   ],
   "source": [
    "pd.Series([(~all_false.target).sum(), all_false.target.sum()], index=['true negatives', 'false negatives']).plot.bar(\n",
    "    title='all negatives')"
   ]
  },
  {
   "cell_type": "code",
   "execution_count": 58,
   "metadata": {},
   "outputs": [
    {
     "data": {
      "text/plain": [
       "0.5679012345679012"
      ]
     },
     "execution_count": 58,
     "metadata": {},
     "output_type": "execute_result"
    }
   ],
   "source": [
    "# now the ratio\n",
    "\n",
    "(~all_false.target).sum() / all_false.shape[0]"
   ]
  },
  {
   "cell_type": "markdown",
   "metadata": {},
   "source": [
    "Yikes! Things are not looking so good now! Of the ones we predicted \"false\" for,\n",
    "there's a LOT of them that are not False at all!\n",
    "\n",
    "Plus, we classified a lot more as false than as true:"
   ]
  },
  {
   "cell_type": "code",
   "execution_count": 59,
   "metadata": {},
   "outputs": [
    {
     "name": "stdout",
     "output_type": "stream",
     "text": [
      "# True predictions: 19, # False predictions: 81\n"
     ]
    }
   ],
   "source": [
    "print('# True predictions: {}, # False predictions: {}'.format(preds.sum(), (~preds).sum()))"
   ]
  },
  {
   "cell_type": "markdown",
   "metadata": {},
   "source": [
    "Alright, by now we are understanding that we need a bit more of a global\n",
    "view on things when we are evaluating our model so the next thing we\n",
    "might ask ourselves is just: how well did my model do at finding all\n",
    "of the \"trues\". That way we break out of the problems we were running into\n",
    "by only considering subsets of the data that our model made predictions on.\n",
    "\n",
    "Alright, so let's find out how many of the \"trues\" our model was able to track down:"
   ]
  },
  {
   "cell_type": "code",
   "execution_count": 60,
   "metadata": {},
   "outputs": [
    {
     "data": {
      "text/plain": [
       "0.29999999999999999"
      ]
     },
     "execution_count": 60,
     "metadata": {},
     "output_type": "execute_result"
    }
   ],
   "source": [
    "(df.target & preds).sum() / df.target.sum()"
   ]
  },
  {
   "cell_type": "markdown",
   "metadata": {},
   "source": [
    "And of course, this one is in scikit as well"
   ]
  },
  {
   "cell_type": "code",
   "execution_count": 61,
   "metadata": {},
   "outputs": [
    {
     "data": {
      "text/plain": [
       "0.29999999999999999"
      ]
     },
     "execution_count": 61,
     "metadata": {},
     "output_type": "execute_result"
    }
   ],
   "source": [
    "from sklearn.metrics import recall_score\n",
    "recall_score(df.target, preds)"
   ]
  },
  {
   "cell_type": "markdown",
   "metadata": {},
   "source": [
    "Oh man, the more objective we get about this model, the worse it gets!\n",
    "\n",
    "Obviously we need to be working toward getting ourselves to a number\n",
    "that expresses our models performance much better. Maybe we can average\n",
    "our precision for both classes?"
   ]
  },
  {
   "cell_type": "code",
   "execution_count": 62,
   "metadata": {},
   "outputs": [
    {
     "data": {
      "text/plain": [
       "0.67868745938921382"
      ]
     },
     "execution_count": 62,
     "metadata": {},
     "output_type": "execute_result"
    }
   ],
   "source": [
    "(precision_score(df.target, preds) + precision_score(~df.target, ~preds)) / 2"
   ]
  },
  {
   "cell_type": "markdown",
   "metadata": {},
   "source": [
    "Maybe try the same for recall?"
   ]
  },
  {
   "cell_type": "code",
   "execution_count": 63,
   "metadata": {},
   "outputs": [
    {
     "data": {
      "text/plain": [
       "0.60999999999999999"
      ]
     },
     "execution_count": 63,
     "metadata": {},
     "output_type": "execute_result"
    }
   ],
   "source": [
    "(recall_score(df.target, preds) + recall_score(~df.target, ~preds)) / 2"
   ]
  },
  {
   "cell_type": "markdown",
   "metadata": {},
   "source": [
    "Now it seems like we are getting somewhere but it doesn't seem quite right still. It still\n",
    "allows us to be weighted down by one of the classes that doesn't have a lot of samples\n",
    "in it, right?\n",
    "\n",
    "Consider the other really, REALLY stupid model again:"
   ]
  },
  {
   "cell_type": "code",
   "execution_count": 64,
   "metadata": {},
   "outputs": [
    {
     "data": {
      "text/plain": [
       "0.7525252525252526"
      ]
     },
     "execution_count": 64,
     "metadata": {},
     "output_type": "execute_result"
    }
   ],
   "source": [
    "def gave_up_on_life(x):\n",
    "    return x == 99\n",
    "\n",
    "stupid_preds = df.x.map(gave_up_on_life)\n",
    "(precision_score(df.target, stupid_preds) + precision_score(~df.target, ~stupid_preds)) / 2"
   ]
  },
  {
   "cell_type": "code",
   "execution_count": 65,
   "metadata": {},
   "outputs": [
    {
     "data": {
      "text/plain": [
       "0.51000000000000001"
      ]
     },
     "execution_count": 65,
     "metadata": {},
     "output_type": "execute_result"
    }
   ],
   "source": [
    "(recall_score(df.target, stupid_preds) + recall_score(~df.target, ~stupid_preds)) / 2"
   ]
  },
  {
   "cell_type": "markdown",
   "metadata": {},
   "source": [
    "That's just not fair! Sure we are taking both classes into account but grrrr,\n",
    "we just can't get there!\n",
    "\n",
    "At this point, it's obvious that we need to do some kind of weighted average between\n",
    "something. And it turns out that the f1_score can help us with this.\n",
    "\n",
    "The scikit documentation says `The F1 score can be interpreted as a weighted average of the precision and recall, where an F1 score reaches its best value at 1 and worst score at 0.`"
   ]
  },
  {
   "cell_type": "code",
   "execution_count": 66,
   "metadata": {},
   "outputs": [
    {
     "data": {
      "text/plain": [
       "0.039215686274509803"
      ]
     },
     "execution_count": 66,
     "metadata": {},
     "output_type": "execute_result"
    }
   ],
   "source": [
    "from sklearn.metrics import f1_score\n",
    "f1_score(df.target, stupid_preds)"
   ]
  },
  {
   "cell_type": "code",
   "execution_count": 67,
   "metadata": {},
   "outputs": [
    {
     "data": {
      "text/plain": [
       "0.43478260869565211"
      ]
     },
     "execution_count": 67,
     "metadata": {},
     "output_type": "execute_result"
    }
   ],
   "source": [
    "f1_score(df.target, preds)"
   ]
  },
  {
   "cell_type": "markdown",
   "metadata": {},
   "source": [
    "Alright, now that we are getting somewhere, let's take a break to get the big picture under control.\n",
    "\n",
    "We have these concepts of true and false positive and negatives. This can be expressed as a 2X2\n",
    "matrix where each index corresponds to one of the concepts we have learned:"
   ]
  },
  {
   "cell_type": "code",
   "execution_count": 68,
   "metadata": {},
   "outputs": [
    {
     "data": {
      "text/plain": [
       "array([[46,  4],\n",
       "       [35, 15]])"
      ]
     },
     "execution_count": 68,
     "metadata": {},
     "output_type": "execute_result"
    }
   ],
   "source": [
    "from sklearn.metrics import confusion_matrix\n",
    "\n",
    "confusion_matrix(df.target, preds)"
   ]
  },
  {
   "cell_type": "markdown",
   "metadata": {},
   "source": [
    "It's not super easy to read but this gives us the true negatives in C_{0,0}, false negatives in C_{1,0}, true positives in C_{1,1} and false positives in C_{0,1}.\n",
    "\n",
    "A cool way to visualize this is with a heatmap:"
   ]
  },
  {
   "cell_type": "code",
   "execution_count": 87,
   "metadata": {},
   "outputs": [
    {
     "data": {
      "image/png": "[encoded data removed]",
      "text/plain": [
       "<matplotlib.figure.Figure at 0x11f5246a0>"
      ]
     },
     "metadata": {},
     "output_type": "display_data"
    }
   ],
   "source": [
    "from draw_confusion import draw_confusion_matrix\n",
    "\n",
    "draw_confusion_matrix(confusion_matrix(df.target, preds))"
   ]
  },
  {
   "cell_type": "markdown",
   "metadata": {},
   "source": [
    "And at this point we have a decent way to visualize a few key metrics as well\n",
    "as get a global view of how well our model is behaving.\n",
    "\n",
    "However, binary classifiers aren't just required to respond \"yes\" or \"no\" but\n",
    "very often are required to give us an idea of how confident they are in their\n",
    "prediction. \n",
    "\n",
    "Said another way: don't just tell me yes or no, tell me *how likely* it is to\n",
    "be a yes or no.\n",
    "\n",
    "Now a model is required to produce a number between 0 and 1 in which we would\n",
    "like to interpret as:\n",
    "\n",
    "- Closer to `0`, the more likely you are to be in the \"False\" class\n",
    "- Closer to `1`, the more likely you are to be in the \"True\" class\n",
    "\n",
    "Let's fire up another dumb model that does this for us:"
   ]
  },
  {
   "cell_type": "code",
   "execution_count": 97,
   "metadata": {
    "collapsed": true
   },
   "outputs": [],
   "source": [
    "# just returns the value of x itself. So the closer you\n",
    "# are to 100, the more probable it is you are a \"1\"\n",
    "def dumb_proba_model(x):\n",
    "    return x / 100\n",
    "\n",
    "probas = df.x.map(dumb_proba_model)"
   ]
  },
  {
   "cell_type": "markdown",
   "metadata": {},
   "source": [
    "Now what we have with a model that gives us probabilities rather\n",
    "than just a 0 or 1 is a way to rank observations as more or less\n",
    "likely to be in a particular class. This is cool!\n",
    "\n",
    "However, this now raises an interesting question about when we\n",
    "call an observation \"True\" or \"False\". If we need a straight\n",
    "answer out of our model and not some wishy-washy answer in probabilities\n",
    "then we will need to select a *cutoff threshold*.\n",
    "\n",
    "This is exactly what it sounds like! You will need to select\n",
    "a cutoff in which everything above that cutoff is considered \"True\"\n",
    "and everything below it is considered \"False\". Once you have done\n",
    "this, you will end up with an array of Trues and Falses that\n",
    "you can then derive your confusion matrix from"
   ]
  },
  {
   "cell_type": "code",
   "execution_count": 98,
   "metadata": {},
   "outputs": [
    {
     "data": {
      "image/png": "[encoded data removed]",
      "text/plain": [
       "<matplotlib.figure.Figure at 0x11f1acb70>"
      ]
     },
     "metadata": {},
     "output_type": "display_data"
    }
   ],
   "source": [
    "threshold = 0.1\n",
    "draw_confusion_matrix(confusion_matrix(df.target, probas.map(lambda x: x > threshold)))"
   ]
  },
  {
   "cell_type": "code",
   "execution_count": 99,
   "metadata": {},
   "outputs": [
    {
     "data": {
      "image/png": "[encoded data removed]",
      "text/plain": [
       "<matplotlib.figure.Figure at 0x11f6b0a20>"
      ]
     },
     "metadata": {},
     "output_type": "display_data"
    }
   ],
   "source": [
    "threshold = 0.5\n",
    "draw_confusion_matrix(confusion_matrix(df.target, probas.map(lambda x: x > threshold)))"
   ]
  },
  {
   "cell_type": "code",
   "execution_count": 100,
   "metadata": {},
   "outputs": [
    {
     "data": {
      "image/png": "[encoded data removed]",
      "text/plain": [
       "<matplotlib.figure.Figure at 0x11f660208>"
      ]
     },
     "metadata": {},
     "output_type": "display_data"
    }
   ],
   "source": [
    "threshold = 0.9\n",
    "draw_confusion_matrix(confusion_matrix(df.target, probas.map(lambda x: x > threshold)))"
   ]
  },
  {
   "cell_type": "markdown",
   "metadata": {},
   "source": [
    "Alright, now we've got a new problem. We can see how our model is doing\n",
    "in a few different ways. But now we have this crazy issue in which we have\n",
    "an entire analysis that we can do for any threshold that we may want to pick!\n",
    "\n",
    "Gaaaahhhh! Can it just please be simple!\n",
    "\n",
    "Well not really. What you will need to do now is to figure out a decent\n",
    "way to visualize your model that given some probas. On to your exercise, young grashopper!"
   ]
  },
  {
   "cell_type": "code",
   "execution_count": null,
   "metadata": {
    "collapsed": true
   },
   "outputs": [],
   "source": []
  }
 ],
 "metadata": {
  "kernelspec": {
   "display_name": "Python 3",
   "language": "python",
   "name": "python3"
  },
  "language_info": {
   "codemirror_mode": {
    "name": "ipython",
    "version": 3
   },
   "file_extension": ".py",
   "mimetype": "text/x-python",
   "name": "python",
   "nbconvert_exporter": "python",
   "pygments_lexer": "ipython3",
   "version": "3.6.1"
  }
 },
 "nbformat": 4,
 "nbformat_minor": 2
}
