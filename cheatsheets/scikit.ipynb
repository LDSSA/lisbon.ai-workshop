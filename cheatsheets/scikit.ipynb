{
 "cells": [
  {
   "cell_type": "markdown",
   "metadata": {},
   "source": [
    "# The import, fit, predict flow"
   ]
  },
  {
   "cell_type": "code",
   "execution_count": 5,
   "metadata": {},
   "outputs": [],
   "source": [
    "# Import your classifier\n",
    "from sklearn.tree import DecisionTreeClassifier\n",
    "from sklearn.linear_model import LogisticRegression\n",
    "from sklearn.ensemble import RandomForestClassifier\n",
    "from sklearn.neighbors import KNeighborsClassifier"
   ]
  },
  {
   "cell_type": "code",
   "execution_count": 19,
   "metadata": {},
   "outputs": [
    {
     "data": {
      "text/plain": [
       "LogisticRegression(C=1.0, class_weight=None, dual=False, fit_intercept=True,\n",
       "          intercept_scaling=1, max_iter=100, multi_class='ovr', n_jobs=1,\n",
       "          penalty='l2', random_state=None, solver='liblinear', tol=0.0001,\n",
       "          verbose=0, warm_start=False)"
      ]
     },
     "execution_count": 19,
     "metadata": {},
     "output_type": "execute_result"
    }
   ],
   "source": [
    "# instiantiate the object that will be fitted. this is\n",
    "# where you will pass any hyper-parameters\n",
    "clf = LogisticRegression()\n",
    "# your training data must be an array of floats\n",
    "# your labels must be 0s and 1s\n",
    "# now actually fit the model so it can learn\n",
    "clf.fit(X=[[0, 0], [1, 1]], y=[0, 1])"
   ]
  },
  {
   "cell_type": "code",
   "execution_count": 44,
   "metadata": {},
   "outputs": [
    {
     "name": "stdout",
     "output_type": "stream",
     "text": [
      "predicted class \"1\" for first observation and class \"0\" for second observation\n"
     ]
    },
    {
     "data": {
      "text/plain": [
       "array([1, 0])"
      ]
     },
     "execution_count": 44,
     "metadata": {},
     "output_type": "execute_result"
    }
   ],
   "source": [
    "# now classify one new observation\n",
    "predicted_classes = clf.predict([[1, 1], [0, 0]])\n",
    "print('predicted class \"{}\" for first observation and class \"{}\" for second observation'.format(\n",
    "    predicted_classes[0], predicted_classes[1]))\n",
    "predicted_classes"
   ]
  },
  {
   "cell_type": "code",
   "execution_count": 43,
   "metadata": {},
   "outputs": [
    {
     "data": {
      "text/plain": [
       "array([[ 0.3554408 ,  0.6445592 ],\n",
       "       [ 0.52888557,  0.47111443]])"
      ]
     },
     "execution_count": 43,
     "metadata": {},
     "output_type": "execute_result"
    }
   ],
   "source": [
    "# now predict the probability of being in each class for two observations\n",
    "classes = clf.predict_proba([[1, 1], [0, 0]])\n",
    "classes"
   ]
  },
  {
   "cell_type": "code",
   "execution_count": 29,
   "metadata": {},
   "outputs": [
    {
     "name": "stdout",
     "output_type": "stream",
     "text": [
      "\n",
      "classes[0][0] - probability observation at index 0 is in the 0th class\n",
      "classes[0][1] - probability observation at index 0 is in the 1st class\n",
      "\n",
      "class \"0\": 0.35544080073145123, class \"1\": 0.35544080073145123\n"
     ]
    }
   ],
   "source": [
    "# check out what the classifier thinks about the first observation\n",
    "print(\"\"\"\n",
    "classes[0][0] - probability observation at index 0 is in the 0th class\n",
    "classes[0][1] - probability observation at index 0 is in the 1st class\n",
    "\"\"\")\n",
    "print('class \"0\": {}, class \"1\": {}'.format(classes[0][0], classes[0][0]))"
   ]
  },
  {
   "cell_type": "code",
   "execution_count": 31,
   "metadata": {},
   "outputs": [
    {
     "name": "stdout",
     "output_type": "stream",
     "text": [
      "\n",
      "classes[1][0] - probability observation at index 0 is in the 0th class\n",
      "classes[1][1] - probability observation at index 0 is in the 1st class\n",
      "\n",
      "class \"0\": 0.528885567263268, class \"1\": 0.4711144327367321\n"
     ]
    }
   ],
   "source": [
    "# check out what the classifier thinks about the second observation\n",
    "print(\"\"\"\n",
    "classes[1][0] - probability observation at index 0 is in the 0th class\n",
    "classes[1][1] - probability observation at index 0 is in the 1st class\n",
    "\"\"\")\n",
    "print('class \"0\": {}, class \"1\": {}'.format(classes[1][0], classes[1][1]))"
   ]
  },
  {
   "cell_type": "code",
   "execution_count": 40,
   "metadata": {},
   "outputs": [
    {
     "data": {
      "text/plain": [
       "array([ 0.3554408 ,  0.52888557])"
      ]
     },
     "execution_count": 40,
     "metadata": {},
     "output_type": "execute_result"
    }
   ],
   "source": [
    "# get the probability of the negative class for each observations\n",
    "negative_class = clf.predict_proba([[1, 1], [0, 0]])[:,0]\n",
    "negative_class"
   ]
  },
  {
   "cell_type": "code",
   "execution_count": 45,
   "metadata": {},
   "outputs": [
    {
     "data": {
      "text/plain": [
       "array([ 0.6445592 ,  0.47111443])"
      ]
     },
     "execution_count": 45,
     "metadata": {},
     "output_type": "execute_result"
    }
   ],
   "source": [
    "# get the probability of the positive class for each observations\n",
    "positive_class = clf.predict_proba([[1, 1], [0, 0]])[:,1]\n",
    "positive_class"
   ]
  },
  {
   "cell_type": "code",
   "execution_count": null,
   "metadata": {},
   "outputs": [],
   "source": []
  }
 ],
 "metadata": {
  "kernelspec": {
   "display_name": "Python 3",
   "language": "python",
   "name": "python3"
  },
  "language_info": {
   "codemirror_mode": {
    "name": "ipython",
    "version": 3
   },
   "file_extension": ".py",
   "mimetype": "text/x-python",
   "name": "python",
   "nbconvert_exporter": "python",
   "pygments_lexer": "ipython3",
   "version": "3.6.2"
  }
 },
 "nbformat": 4,
 "nbformat_minor": 2
}
